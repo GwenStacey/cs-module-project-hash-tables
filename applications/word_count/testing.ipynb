{
 "cells": [
  {
   "cell_type": "code",
   "execution_count": 56,
   "metadata": {},
   "outputs": [],
   "source": [
    "import re\n",
    "def word_count(s):\n",
    "    counts = {}\n",
    "    s = re.findall(r\"\\w+'?\\w+\", s)\n",
    "    for i in s:\n",
    "        i = str.lower(i)\n",
    "        if i not in counts.keys():\n",
    "            counts[i] = 1\n",
    "        else:\n",
    "            counts[i]+=1\n",
    "    return counts"
   ]
  },
  {
   "cell_type": "code",
   "execution_count": 24,
   "metadata": {},
   "outputs": [
    {
     "output_type": "execute_result",
     "data": {
      "text/plain": "{'hello': 2, 'my': 2, 'cat': 2, 'and': 1, \"doesn't\": 1, 'say': 1, 'back': 1}"
     },
     "metadata": {},
     "execution_count": 24
    }
   ],
   "source": [
    "x = word_count('Hello, my cat.  And my cat doesn\\'t say \"hello\" back.')\n",
    "x"
   ]
  },
  {
   "cell_type": "code",
   "execution_count": 25,
   "metadata": {},
   "outputs": [
    {
     "output_type": "execute_result",
     "data": {
      "text/plain": "{':;-+=/\\\\|[]{}()*^&': 1}"
     },
     "metadata": {},
     "execution_count": 25
    }
   ],
   "source": [
    "x = word_count('\":;,.-+=/\\\\|[]{}()*^&')\n",
    "x"
   ]
  },
  {
   "cell_type": "code",
   "execution_count": 57,
   "metadata": {},
   "outputs": [
    {
     "output_type": "execute_result",
     "data": {
      "text/plain": "{'this': 2,\n 'is': 2,\n 'test': 2,\n 'of': 1,\n 'the': 1,\n 'emergency': 1,\n 'broadcast': 1,\n 'network': 1,\n 'only': 1}"
     },
     "metadata": {},
     "execution_count": 57
    }
   ],
   "source": [
    "x = word_count('This is a test of the  Emergency  Broadcast  Network. This is only a test.')\n",
    "x"
   ]
  },
  {
   "cell_type": "code",
   "execution_count": 58,
   "metadata": {},
   "outputs": [
    {
     "output_type": "execute_result",
     "data": {
      "text/plain": "['This',\n 'is',\n 'test',\n 'of',\n 'the',\n 'Emergency',\n 'Broadcast',\n 'Network',\n 'This',\n 'is',\n 'only',\n 'test']"
     },
     "metadata": {},
     "execution_count": 58
    }
   ],
   "source": [
    "s = 'This is a test of the  Emergency  Broadcast  Network. This is only a test.'\n",
    "s = re.findall(r\"\\w+'?\\w+\", s)\n",
    "s"
   ]
  },
  {
   "cell_type": "code",
   "execution_count": null,
   "metadata": {},
   "outputs": [],
   "source": []
  }
 ],
 "metadata": {
  "language_info": {
   "codemirror_mode": {
    "name": "ipython",
    "version": 3
   },
   "file_extension": ".py",
   "mimetype": "text/x-python",
   "name": "python",
   "nbconvert_exporter": "python",
   "pygments_lexer": "ipython3",
   "version": "3.8.3-final"
  },
  "orig_nbformat": 2,
  "kernelspec": {
   "name": "python38364bitdbscanconda3c063c28050f423687c8f43e10e0df7b",
   "display_name": "Python 3.8.3 64-bit ('DBScan': conda)"
  }
 },
 "nbformat": 4,
 "nbformat_minor": 2
}